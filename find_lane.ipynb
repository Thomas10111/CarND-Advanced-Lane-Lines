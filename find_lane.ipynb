{
 "cells": [
  {
   "cell_type": "code",
   "execution_count": 1,
   "metadata": {},
   "outputs": [],
   "source": [
    "import numpy as np\n",
    "import cv2\n",
    "import glob\n",
    "import matplotlib.image as mpimg\n",
    "import matplotlib.pyplot as plt\n",
    "%matplotlib qt\n",
    "\n",
    "nx = 9\n",
    "ny = 6"
   ]
  },
  {
   "cell_type": "code",
   "execution_count": 2,
   "metadata": {},
   "outputs": [],
   "source": [
    "def cal_undistort(img, objpoints, imgpoints):\n",
    "    # Use cv2.calibrateCamera() and cv2.undistort()\n",
    "    gray = cv2.cvtColor(img,cv2.COLOR_BGR2GRAY)\n",
    "    ret, mtx, dist, rvecs, tvecs = cv2.calibrateCamera(objpoints, imgpoints, gray.shape[::-1], None, None)\n",
    "    undist = cv2.undistort(img, mtx, dist, None, mtx)\n",
    "    return undist\n",
    "\n",
    "def draw_lines(img, lines, color=[255, 0, 0], thickness=2):\n",
    "    for line in lines:\n",
    "        for x1,y1,x2,y2 in line:\n",
    "            cv2.line(img, (x1, y1), (x2, y2), color, thickness)"
   ]
  },
  {
   "cell_type": "code",
   "execution_count": 3,
   "metadata": {},
   "outputs": [
    {
     "name": "stdout",
     "output_type": "stream",
     "text": [
      "undistorted\n"
     ]
    }
   ],
   "source": [
    "# prepare object points, like (0,0,0), (1,0,0), (2,0,0) ....,(6,5,0)\n",
    "objp = np.zeros((6*9,3), np.float32)\n",
    "objp[:,:2] = np.mgrid[0:9,0:6].T.reshape(-1,2)\n",
    "\n",
    "# Arrays to store object points and image points from all the images.\n",
    "objpoints = [] # 3d points in real world space\n",
    "imgpoints = [] # 2d points in image plane.\n",
    "\n",
    "# Make a list of calibration images\n",
    "images = glob.glob('camera_cal/calibration*.jpg')\n",
    "\n",
    "# Step through the list and search for chessboard corners \n",
    "for fname in images:\n",
    "    img = cv2.imread(fname)\n",
    "    gray = cv2.cvtColor(img,cv2.COLOR_BGR2GRAY)\n",
    "\n",
    "    # Find the chessboard\n",
    "    ret, corners = cv2.findChessboardCorners(gray, (nx,ny),None)\n",
    "\n",
    "    # If found, add object points, image points\n",
    "    if ret == True:\n",
    "        objpoints.append(objp)\n",
    "        imgpoints.append(corners)\n",
    "\n",
    "        # Draw and display the corners\n",
    "        #img = cv2.drawChessboardCorners(img, (nx,ny), corners, ret)\n",
    "        #cv2.imshow('img',img)\n",
    "        #cv2.waitKey(1)\n",
    "\n",
    "\n",
    "ret, mtx, dist, rvecs, tvecs = cv2.calibrateCamera(objpoints, imgpoints, gray.shape[::-1], None, None)\n",
    "\n",
    "# print(\"mtx: \" ,mtx)\n",
    "# print(\"dist: \" ,dist)\n",
    "\n",
    "# Read in an image\n",
    "img = cv2.imread('camera_cal/calibration1.jpg')\n",
    "undistorted = cal_undistort(img, objpoints, imgpoints)\n",
    "\n",
    "cv2.imshow('img',undistorted)\n",
    "cv2.waitKey(1000)\n",
    "print(\"undistorted\")\n",
    "#cv2.destroyAllWindows()\n"
   ]
  },
  {
   "cell_type": "code",
   "execution_count": 4,
   "metadata": {},
   "outputs": [],
   "source": [
    "def corners_unwarp(undistorted_img, mtx, dist):\n",
    "    # c) define 4 destination points dst = np.float32([[,],[,],[,],[,]])\n",
    "    #dst = np.float32([[0,0],[undistorted_img.shape[1]-100,100],[undistorted_img.shape[1]-100,undistorted_img.shape[0]-100],[100,undistorted_img.shape[0]-100]])\n",
    "\n",
    "    print(\"img.shape[0]\", undistorted_img.shape[0])\n",
    "    print(\"img.shape[1]\", undistorted_img.shape[1])\n",
    "#    src  =  np.float32([[undistorted_img.shape[1]//2 - 20, undistorted_img.shape[0]//2], [undistorted_img.shape[1]//2+20, undistorted_img.shape[0]//2], [undistorted_img.shape[1], undistorted_img.shape[0]], [0, undistorted_img.shape[0]]])\n",
    "#    src  =  np.float32([[600, undistorted_img.shape[0]//2 + 65], [undistorted_img.shape[1]-600, undistorted_img.shape[0]//2+65], [undistorted_img.shape[1], undistorted_img.shape[0]], [0, undistorted_img.shape[0]]])\n",
    "    src  =  np.float32([[500, undistorted_img.shape[0]//2 + 75],                             [undistorted_img.shape[1] - 500, undistorted_img.shape[0]//2 + 75],                                 [undistorted_img.shape[1], undistorted_img.shape[0]], [0, undistorted_img.shape[0]]])\n",
    "    dst  =  np.float32([[0, 0],                                                          [undistorted_img.shape[1], 0],                                 [undistorted_img.shape[1]-200, undistorted_img.shape[0]], [200, undistorted_img.shape[0]]])\n",
    "#    dst  =  np.float32([[undistorted_img.shape[1]//2 -20, undistorted_img.shape[0]//2], [undistorted_img.shape[1]//2+20, undistorted_img.shape[0]//2], [undistorted_img.shape[1], undistorted_img.shape[0]], [0, undistorted_img.shape[0]]])    \n",
    "\n",
    "    \n",
    "    # d) use cv2.getPerspectiveTransform() to get M, the transform matrix\n",
    "    M = cv2.getPerspectiveTransform(src, dst)\n",
    "    print(\"M: \", M)\n",
    "    # e) use cv2.warpPerspective() to warp your image to a top-down view\n",
    "    warped = cv2.warpPerspective(undistorted_img, M, (undistorted_img.shape[1], undistorted_img.shape[0]), flags=cv2.INTER_LINEAR)\n",
    "    \n",
    "    return warped, M"
   ]
  },
  {
   "cell_type": "code",
   "execution_count": 5,
   "metadata": {},
   "outputs": [],
   "source": [
    "def hls_select(img, thresh=(0, 255)):\n",
    "    # 1) Convert to HLS color space\n",
    "    image_hls = cv2.cvtColor(img, cv2.COLOR_RGB2HLS)\n",
    "    # 2) Apply a threshold to the S channel\n",
    "    channel_s = image_hls[:,:,2]\n",
    "    # 3) Return a binary image of threshold result\n",
    "    binary = np.zeros_like(channel_s)\n",
    "    binary[(channel_s > thresh[0]) & (channel_s <= thresh[1])] = 1\n",
    "    binary_output = binary # placeholder line\n",
    "    return binary_output\n",
    "    \n"
   ]
  },
  {
   "cell_type": "code",
   "execution_count": 19,
   "metadata": {},
   "outputs": [
    {
     "name": "stdout",
     "output_type": "stream",
     "text": [
      "img.shape[0] 720\n",
      "img.shape[1] 1280\n",
      "M:  [[-5.99713056e-01 -1.66427547e+00  1.02381636e+03]\n",
      " [ 0.00000000e+00 -2.20373027e+00  9.58622669e+02]\n",
      " [-0.00000000e+00 -2.60043042e-03  1.00000000e+00]]\n"
     ]
    },
    {
     "data": {
      "text/plain": [
       "-1"
      ]
     },
     "execution_count": 19,
     "metadata": {},
     "output_type": "execute_result"
    }
   ],
   "source": [
    "img = cv2.imread('test_images/straight_lines1.jpg')\n",
    "undistorted_img = cal_undistort(img, objpoints, imgpoints)\n",
    "cv2.imshow('img_orig',undistorted_img)\n",
    "cv2.waitKey(1000)\n",
    "\n",
    "#rgb = img[...,::-1].copy()\n",
    "hls_binary = hls_select(undistorted_img, thresh=(70, 255))\n",
    "hls_binary = hls_binary*255\n",
    "cv2.imshow('img_binary', hls_binary)\n",
    "cv2.waitKey(1000)\n",
    "\n",
    "top_down, perspective_M = corners_unwarp(hls_binary, mtx, dist)\n",
    "cv2.imshow('img_unwarped',top_down)\n",
    "cv2.waitKey(1000)"
   ]
  },
  {
   "cell_type": "code",
   "execution_count": null,
   "metadata": {},
   "outputs": [],
   "source": []
  },
  {
   "cell_type": "code",
   "execution_count": null,
   "metadata": {},
   "outputs": [],
   "source": []
  }
 ],
 "metadata": {
  "kernelspec": {
   "display_name": "Python 3",
   "language": "python",
   "name": "python3"
  },
  "language_info": {
   "codemirror_mode": {
    "name": "ipython",
    "version": 3
   },
   "file_extension": ".py",
   "mimetype": "text/x-python",
   "name": "python",
   "nbconvert_exporter": "python",
   "pygments_lexer": "ipython3",
   "version": "3.6.5"
  }
 },
 "nbformat": 4,
 "nbformat_minor": 4
}
