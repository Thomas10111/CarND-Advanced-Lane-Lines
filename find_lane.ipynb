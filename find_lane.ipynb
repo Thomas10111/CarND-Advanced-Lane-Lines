{
 "cells": [
  {
   "cell_type": "code",
   "execution_count": 1,
   "metadata": {},
   "outputs": [],
   "source": [
    "import numpy as np\n",
    "import cv2\n",
    "import glob\n",
    "import matplotlib.image as mpimg\n",
    "import matplotlib.pyplot as plt\n",
    "%matplotlib qt\n",
    "\n",
    "nx = 9\n",
    "ny = 6\n",
    "\n",
    "# Define conversions in x and y from pixels space to meters\n",
    "ym_per_pix = 30/720 # meters per pixel in y dimension\n",
    "xm_per_pix = 3.7/700 # meters per pixel in x dimension"
   ]
  },
  {
   "cell_type": "code",
   "execution_count": 2,
   "metadata": {},
   "outputs": [],
   "source": [
    "def cal_undistort(img, objpoints, imgpoints):\n",
    "    # Use cv2.calibrateCamera() and cv2.undistort()\n",
    "    gray = cv2.cvtColor(img,cv2.COLOR_BGR2GRAY)\n",
    "    ret, mtx, dist, rvecs, tvecs = cv2.calibrateCamera(objpoints, imgpoints, gray.shape[::-1], None, None)\n",
    "    undist = cv2.undistort(img, mtx, dist, None, mtx)\n",
    "    return undist\n",
    "\n",
    "def draw_lines(img, lines, color=[255, 0, 0], thickness=2):\n",
    "    for line in lines:\n",
    "        for x1,y1,x2,y2 in line:\n",
    "            cv2.line(img, (x1, y1), (x2, y2), color, thickness)"
   ]
  },
  {
   "cell_type": "code",
   "execution_count": 3,
   "metadata": {},
   "outputs": [],
   "source": [
    "# prepare object points, like (0,0,0), (1,0,0), (2,0,0) ....,(6,5,0)\n",
    "objp = np.zeros((6*9,3), np.float32)\n",
    "objp[:,:2] = np.mgrid[0:9,0:6].T.reshape(-1,2)\n",
    "\n",
    "# Arrays to store object points and image points from all the images.\n",
    "objpoints = [] # 3d points in real world space\n",
    "imgpoints = [] # 2d points in image plane.\n",
    "\n",
    "# Make a list of calibration images\n",
    "images = glob.glob('camera_cal/calibration*.jpg')\n",
    "\n",
    "# Step through the list and search for chessboard corners \n",
    "for fname in images:\n",
    "    img = cv2.imread(fname)\n",
    "    gray = cv2.cvtColor(img,cv2.COLOR_BGR2GRAY)\n",
    "\n",
    "    # Find the chessboard\n",
    "    ret, corners = cv2.findChessboardCorners(gray, (nx,ny),None)\n",
    "\n",
    "    # If found, add object points, image points\n",
    "    if ret == True:\n",
    "        objpoints.append(objp)\n",
    "        imgpoints.append(corners)\n",
    "\n",
    "        # Draw and display the corners\n",
    "        img = cv2.drawChessboardCorners(img, (nx,ny), corners, ret)\n",
    "        cv2.imshow('img',img)\n",
    "        cv2.waitKey(100)\n",
    "\n",
    "\n",
    "ret, mtx, dist, rvecs, tvecs = cv2.calibrateCamera(objpoints, imgpoints, gray.shape[::-1], None, None)\n",
    "\n",
    "# print(\"mtx: \" ,mtx)\n",
    "# print(\"dist: \" ,dist)\n",
    "\n",
    "# Read in an image\n",
    "img = cv2.imread('camera_cal/calibration1.jpg')\n",
    "undistorted = cal_undistort(img, objpoints, imgpoints)\n",
    "\n",
    "# cv2.imshow('img',undistorted)\n",
    "# cv2.waitKey(1000)\n",
    "# print(\"undistorted\")\n",
    "# cv2.destroyAllWindows()\n"
   ]
  },
  {
   "cell_type": "code",
   "execution_count": 4,
   "metadata": {},
   "outputs": [],
   "source": [
    "def corners_unwarp(undistorted_img, mtx, dist):\n",
    "    # c) define 4 destination points dst = np.float32([[,],[,],[,],[,]])\n",
    "    #dst = np.float32([[0,0],[undistorted_img.shape[1]-100,100],[undistorted_img.shape[1]-100,undistorted_img.shape[0]-100],[100,undistorted_img.shape[0]-100]])\n",
    "\n",
    "    print(\"img.shape[0]\", undistorted_img.shape[0])\n",
    "    print(\"img.shape[1]\", undistorted_img.shape[1])\n",
    "#    src  =  np.float32([[undistorted_img.shape[1]//2 - 20, undistorted_img.shape[0]//2], [undistorted_img.shape[1]//2+20, undistorted_img.shape[0]//2], [undistorted_img.shape[1], undistorted_img.shape[0]], [0, undistorted_img.shape[0]]])\n",
    "#    src  =  np.float32([[600, undistorted_img.shape[0]//2 + 65], [undistorted_img.shape[1]-600, undistorted_img.shape[0]//2+65], [undistorted_img.shape[1], undistorted_img.shape[0]], [0, undistorted_img.shape[0]]])\n",
    "    src  =  np.float32([[525, undistorted_img.shape[0]//2 + 90],                         [undistorted_img.shape[1] - 525, undistorted_img.shape[0]//2 + 90],                                 [undistorted_img.shape[1], undistorted_img.shape[0]], [0, undistorted_img.shape[0]]])\n",
    "    dst  =  np.float32([[0, 0],                                                          [undistorted_img.shape[1], 0],                                 [undistorted_img.shape[1]-280, undistorted_img.shape[0]], [280, undistorted_img.shape[0]]])\n",
    "#    dst  =  np.float32([[undistorted_img.shape[1]//2 -20, undistorted_img.shape[0]//2], [undistorted_img.shape[1]//2+20, undistorted_img.shape[0]//2], [undistorted_img.shape[1], undistorted_img.shape[0]], [0, undistorted_img.shape[0]]])    \n",
    "\n",
    "    \n",
    "    # d) use cv2.getPerspectiveTransform() to get M, the transform matrix\n",
    "    M = cv2.getPerspectiveTransform(src, dst)\n",
    "    print(\"M: \", M)\n",
    "    # e) use cv2.warpPerspective() to warp your image to a top-down view\n",
    "    warped = cv2.warpPerspective(undistorted_img, M, (undistorted_img.shape[1], undistorted_img.shape[0]), flags=cv2.INTER_LINEAR)\n",
    "    \n",
    "    return warped, M\n",
    "\n",
    "def hist(img):\n",
    "    bottom_half = np.sum(img[img.shape[0]//2:,:], axis=0)\n",
    "    #histogram = sum(bottom_half/255)\n",
    "    return bottom_half\n",
    "\n",
    "\n",
    "def find_lane_pixels(binary_warped):\n",
    "    # Take a histogram of the bottom half of the image\n",
    "    histogram = np.sum(binary_warped[binary_warped.shape[0]//2:,:], axis=0)\n",
    "    # Create an output image to draw on and visualize the result\n",
    "    out_img = np.dstack((binary_warped, binary_warped, binary_warped))\n",
    "    # Find the peak of the left and right halves of the histogram\n",
    "    # These will be the starting point for the left and right lines\n",
    "    # filter out 200 pixels to the left and right, 0:200 and histogram.shape[0]-200:end\n",
    "    histogram[0:200] = 0\n",
    "    histogram[histogram.shape[0]-200:] = 0\n",
    "    midpoint = np.int(histogram.shape[0]//2)\n",
    "    leftx_base = np.argmax(histogram[:midpoint])\n",
    "    rightx_base = np.argmax(histogram[midpoint:]) + midpoint\n",
    "\n",
    "\n",
    "    # HYPERPARAMETERS\n",
    "    # Choose the number of sliding windows\n",
    "    nwindows = 9\n",
    "    # Set the width of the windows +/- margin\n",
    "    margin = 100\n",
    "    # Set minimum number of pixels found to recenter window\n",
    "    minpix = 50\n",
    "\n",
    "    # Set height of windows - based on nwindows above and image shape\n",
    "    window_height = np.int(binary_warped.shape[0]//nwindows)\n",
    "    # Identify the x and y positions of all nonzero pixels in the image\n",
    "    nonzero = binary_warped.nonzero()\n",
    "    print(\"nonzero: \", nonzero)\n",
    "    nonzeroy = np.array(nonzero[0])\n",
    "    nonzerox = np.array(nonzero[1])\n",
    "    # Current positions to be updated later for each window in nwindows\n",
    "    leftx_current = leftx_base\n",
    "    rightx_current = rightx_base\n",
    "    \n",
    "    print(\"nonzerox: \", nonzerox )\n",
    "    print(\"nonzeroy: \", nonzeroy )\n",
    "\n",
    "    # Create empty lists to receive left and right lane pixel indices\n",
    "    left_lane_inds = []\n",
    "    right_lane_inds = []\n",
    "\n",
    "    print(binary_warped.shape)\n",
    "\n",
    "    # Step through the windows one by one\n",
    "    for window in range(nwindows):\n",
    "        # Identify window boundaries in x and y (and right and left)\n",
    "        win_y_low = binary_warped.shape[0] - (window+1)*window_height\n",
    "        win_y_high = binary_warped.shape[0] - window*window_height\n",
    "        ### TO-DO: Find the four below boundaries of the window ###\n",
    "        win_xleft_low =   leftx_current - margin  # Update this\n",
    "        win_xleft_high =  leftx_current + margin  # Update this\n",
    "        \n",
    "        win_xright_low =  rightx_current - margin  # Update this\n",
    "        win_xright_high = rightx_current + margin# Update this\n",
    "        \n",
    "        # Draw the windows on the visualization image\n",
    "        cv2.rectangle(out_img,(win_xleft_low,win_y_low),\n",
    "        (win_xleft_high,win_y_high),(0,255,0), 2) \n",
    "        cv2.rectangle(out_img,(win_xright_low,win_y_low),\n",
    "        (win_xright_high,win_y_high),(0,255,0), 2) \n",
    "        \n",
    "        ### TO-DO: Identify the nonzero pixels in x and y within the window ###\n",
    "        good_left_inds =  ((nonzeroy >= win_y_low) & (nonzeroy < win_y_high) & \n",
    "        (nonzerox >= win_xleft_low) &  (nonzerox < win_xleft_high)).nonzero()[0]\n",
    "        \n",
    "        good_right_inds = ((nonzeroy >= win_y_low) & (nonzeroy < win_y_high) & \n",
    "        (nonzerox >= win_xright_low) &  (nonzerox < win_xright_high)).nonzero()[0]\n",
    "        \n",
    "        # Append these indices to the lists\n",
    "        left_lane_inds.append(good_left_inds)\n",
    "        right_lane_inds.append(good_right_inds)\n",
    "        \n",
    "        ### TO-DO: If you found > minpix pixels, recenter next window ###\n",
    "        ### (`right` or `leftx_current`) on their mean position ###\n",
    "        if len(good_left_inds) > minpix:\n",
    "            leftx_current = np.int(np.mean(nonzerox[good_left_inds]))\n",
    "        if len(good_right_inds) > minpix:        \n",
    "            rightx_current = np.int(np.mean(nonzerox[good_right_inds]))\n",
    "\n",
    "    # Concatenate the arrays of indices (previously was a list of lists of pixels)\n",
    "    try:\n",
    "        left_lane_inds = np.concatenate(left_lane_inds)\n",
    "        right_lane_inds = np.concatenate(right_lane_inds)\n",
    "    except ValueError:\n",
    "        # Avoids an error if the above is not implemented fully\n",
    "        pass\n",
    "\n",
    "    # Extract left and right line pixel positions\n",
    "    leftx = nonzerox[left_lane_inds]\n",
    "    lefty = nonzeroy[left_lane_inds] \n",
    "    rightx = nonzerox[right_lane_inds]\n",
    "    righty = nonzeroy[right_lane_inds]\n",
    "\n",
    "    return leftx, lefty, rightx, righty, out_img\n",
    "\n",
    "\n",
    "def fit_poly(img_shape, leftx, lefty, rightx, righty):\n",
    "    ### TO-DO: Fit a second order polynomial to each with np.polyfit() ###\n",
    "    left_fit = np.polyfit(lefty, leftx, 2)\n",
    "    right_fit = np.polyfit(righty, rightx, 2)\n",
    "    # Generate x and y values for plotting\n",
    "    ploty = np.linspace(0, img_shape[0]-1, img_shape[0])\n",
    "    ### TO-DO: Calc both polynomials using ploty, left_fit and right_fit ###\n",
    "    left_fitx = left_fit[0]*ploty**2 + left_fit[1]*ploty + left_fit[2]\n",
    "    right_fitx = right_fit[0]*ploty**2 + right_fit[1]*ploty + right_fit[2]\n",
    "    \n",
    "    return left_fitx, right_fitx, ploty\n",
    "\n",
    "\n",
    "\n",
    "def fit_polynomial(binary_warped):\n",
    "    # Find our lane pixels first\n",
    "    leftx, lefty, rightx, righty, out_img = find_lane_pixels(binary_warped)\n",
    "    \n",
    "    ### TO-DO: Fit a second order polynomial to each using `np.polyfit` ###\n",
    "    left_fit = np.polyfit(lefty, leftx, 2)\n",
    "    right_fit = np.polyfit(righty, rightx, 2)\n",
    "\n",
    "    # Generate x and y values for plotting\n",
    "    ploty = np.linspace(0, binary_warped.shape[0]-1, binary_warped.shape[0] )\n",
    "    try:\n",
    "        left_fitx = left_fit[0]*ploty**2 + left_fit[1]*ploty + left_fit[2]\n",
    "        right_fitx = right_fit[0]*ploty**2 + right_fit[1]*ploty + right_fit[2]\n",
    "    except TypeError:\n",
    "        # Avoids an error if `left` and `right_fit` are still none or incorrect\n",
    "        print('The function failed to fit a line!')\n",
    "        left_fitx = 1*ploty**2 + 1*ploty\n",
    "        right_fitx = 1*ploty**2 + 1*ploty\n",
    "\n",
    "    ## Visualization ##\n",
    "    # Colors in the left and right lane regions\n",
    "    out_img[lefty, leftx] = [255, 0, 0]\n",
    "    out_img[righty, rightx] = [0, 0, 255]\n",
    "\n",
    "    # Plots the left and right polynomials on the lane lines\n",
    "    plt.plot(left_fitx, ploty, color='yellow')\n",
    "    plt.plot(right_fitx, ploty, color='yellow')\n",
    "\n",
    "    return out_img, left_fit, right_fit, left_fitx, right_fitx, ploty\n",
    "\n",
    "def draw_lines(img, undist, left_fitx, right_fitx, ploty, Minv):\n",
    "    # Create an image to draw the lines on\n",
    "    warp_zero = np.zeros_like(img).astype(np.uint8)\n",
    "    color_warp = np.dstack((warp_zero, warp_zero, warp_zero))\n",
    "\n",
    "    # Recast the x and y points into usable format for cv2.fillPoly()\n",
    "    pts_left = np.array([np.transpose(np.vstack([left_fitx, ploty]))])\n",
    "    pts_right = np.array([np.flipud(np.transpose(np.vstack([right_fitx, ploty])))])\n",
    "    pts = np.hstack((pts_left, pts_right))\n",
    "    \n",
    "    # Draw the lane onto the warped blank image\n",
    "    cv2.imshow(\"color_warp\", color_warp)\n",
    "    cv2.fillPoly(color_warp, np.int_([pts]), (0,255, 0))\n",
    "\n",
    "    # Warp the blank back to original image space using inverse perspective matrix (Minv)\n",
    "    newwarp = cv2.warpPerspective(color_warp, Minv, (img.shape[1], img.shape[0])) \n",
    "    # Combine the result with the original image\n",
    "    result = cv2.addWeighted(undist, 1, newwarp, 0.3, 0)\n",
    "\n",
    "    return result\n",
    "    \n",
    "    \n",
    "def search_around_poly(binary_warped, left_fit, right_fit):\n",
    "    # HYPERPARAMETER\n",
    "    # Choose the width of the margin around the previous polynomial to search\n",
    "    # The quiz grader expects 100 here, but feel free to tune on your own!\n",
    "    margin = 100\n",
    "\n",
    "    # Grab activated pixels\n",
    "    nonzero = binary_warped.nonzero()\n",
    "    nonzeroy = np.array(nonzero[0])\n",
    "    nonzerox = np.array(nonzero[1])\n",
    "    \n",
    "    ### TO-DO: Set the area of search based on activated x-values ###\n",
    "    ### within the +/- margin of our polynomial function ###\n",
    "    ### Hint: consider the window areas for the similarly named variables ###\n",
    "    ### in the previous quiz, but change the windows to our new search area ###\n",
    "    win_x_low_left = left_fit[0]*nonzeroy**2 + left_fit[1]*nonzeroy + left_fit[2] - margin\n",
    "    win_x_high_left = left_fit[0]*nonzeroy**2 + left_fit[1]*nonzeroy + left_fit[2] + margin\n",
    "    \n",
    "    win_x_low_right = right_fit[0]*nonzeroy**2 + right_fit[1]*nonzeroy + right_fit[2] - margin\n",
    "    win_x_high_right = right_fit[0]*nonzeroy**2 + right_fit[1]*nonzeroy + right_fit[2] + margin\n",
    "     \n",
    "    \n",
    "    good_left_inds =  ((nonzerox >= win_x_low_left) & (nonzerox < win_x_high_left)) \n",
    "    good_right_inds = ((nonzerox >= win_x_low_right) & (nonzerox < win_x_high_right)) \n",
    "    \n",
    "    left_lane_inds = good_left_inds\n",
    "    right_lane_inds = good_right_inds\n",
    "    \n",
    "    print(\"left_lane_inds: \", left_lane_inds)\n",
    "    print(\"right_lane_inds: \", right_lane_inds)\n",
    "    \n",
    "    # Again, extract left and right line pixel positions\n",
    "    leftx = nonzerox[left_lane_inds]\n",
    "    lefty = nonzeroy[left_lane_inds] \n",
    "    rightx = nonzerox[right_lane_inds]\n",
    "    righty = nonzeroy[right_lane_inds]\n",
    "\n",
    "    # Fit new polynomials\n",
    "    left_fitx, right_fitx, ploty = fit_poly(binary_warped.shape, leftx, lefty, rightx, righty)\n",
    "    \n",
    "    ## Visualization ##\n",
    "    # Create an image to draw on and an image to show the selection window\n",
    "    out_img = np.dstack((binary_warped, binary_warped, binary_warped))*255\n",
    "    window_img = np.zeros_like(out_img)\n",
    "    # Color in left and right line pixels\n",
    "    out_img[nonzeroy[left_lane_inds], nonzerox[left_lane_inds]] = [255, 0, 0]\n",
    "    out_img[nonzeroy[right_lane_inds], nonzerox[right_lane_inds]] = [0, 0, 255]\n",
    "\n",
    "    # Generate a polygon to illustrate the search window area\n",
    "    # And recast the x and y points into usable format for cv2.fillPoly()\n",
    "    left_line_window1 = np.array([np.transpose(np.vstack([left_fitx-margin, ploty]))])\n",
    "    left_line_window2 = np.array([np.flipud(np.transpose(np.vstack([left_fitx+margin, \n",
    "                              ploty])))])\n",
    "    left_line_pts = np.hstack((left_line_window1, left_line_window2))\n",
    "    right_line_window1 = np.array([np.transpose(np.vstack([right_fitx-margin, ploty]))])\n",
    "    right_line_window2 = np.array([np.flipud(np.transpose(np.vstack([right_fitx+margin, \n",
    "                              ploty])))])\n",
    "    right_line_pts = np.hstack((right_line_window1, right_line_window2))\n",
    "\n",
    "    # Draw the lane onto the warped blank image\n",
    "    cv2.fillPoly(window_img, np.int_([left_line_pts]), (0,255, 0))\n",
    "    cv2.fillPoly(window_img, np.int_([right_line_pts]), (0,255, 0))\n",
    "    result = cv2.addWeighted(out_img, 1, window_img, 0.3, 0)\n",
    "    \n",
    "    # Plot the polynomial lines onto the image\n",
    "    plt.plot(left_fitx, ploty, color='yellow')\n",
    "    plt.plot(right_fitx, ploty, color='yellow')\n",
    "    ## End visualization steps ##\n",
    "    \n",
    "    return leftx, lefty, rightx, righty, result\n",
    "\n",
    "\n",
    "def hls_select(img, thresh=(0, 255)):\n",
    "    # 1) Convert to HLS color space\n",
    "    image_hls = cv2.cvtColor(img, cv2.COLOR_RGB2HLS)\n",
    "    # 2) Apply a threshold to the S channel\n",
    "    channel_s = image_hls[:,:,2]\n",
    "    # 3) Return a binary image of threshold result\n",
    "    binary = np.zeros_like(channel_s)\n",
    "    binary[(channel_s > thresh[0]) & (channel_s <= thresh[1])] = 1\n",
    "    binary_output = binary # placeholder line\n",
    "    return binary_output\n",
    "\n",
    "\n",
    "def measure_curvature_real(leftx, rightx, ploty):\n",
    "    '''\n",
    "    Calculates the curvature of polynomial functions in meters.\n",
    "    '''\n",
    "    \n",
    "    # Start by generating our fake example data\n",
    "    # Make sure to feed in your real data instead in your project!\n",
    "    #ploty, left_fit_cr, right_fit_cr = generate_data(ym_per_pix, xm_per_pix)\n",
    "    left_fit_cr = np.polyfit(ploty*ym_per_pix, leftx*xm_per_pix, 2)\n",
    "    right_fit_cr = np.polyfit(ploty*ym_per_pix, rightx*xm_per_pix, 2)\n",
    "    \n",
    "    # Define y-value where we want radius of curvature\n",
    "    # We'll choose the maximum y-value, corresponding to the bottom of the image\n",
    "    y_eval = np.max(ploty)\n",
    "    \n",
    "    ##### TO-DO: Implement the calculation of R_curve (radius of curvature) #####\n",
    "    A_left = left_fit_cr[0]\n",
    "    A_right = right_fit_cr[0]\n",
    "    \n",
    "    B_left = left_fit_cr[1]\n",
    "    B_right = right_fit_cr[1]\n",
    "    \n",
    "    y = y_eval*ym_per_pix\n",
    "    \n",
    "    left_curverad = ((1+(2*A_left*y + B_left)**2)**1.5)/ np.absolute(2*A_left)  ## Implement the calculation of the left line here\n",
    "    right_curverad = ((1+(2*A_right*y+B_right)**2)**1.5)/ np.absolute(2*A_right)  ## Implement the calculation of the right line here\n",
    "   \n",
    "#    left_curverad = 0  ## Implement the calculation of the left line here\n",
    "#    right_curverad = 0  ## Implement the calculation of the right line here\n",
    "    \n",
    "    return left_curverad, right_curverad\n",
    "\n"
   ]
  },
  {
   "cell_type": "code",
   "execution_count": 5,
   "metadata": {},
   "outputs": [
    {
     "name": "stdout",
     "output_type": "stream",
     "text": [
      "img.shape[0] 720\n",
      "img.shape[1] 1280\n",
      "M:  [[-4.02609506e-01 -1.52511132e+00  8.97670084e+02]\n",
      " [ 0.00000000e+00 -1.90866729e+00  8.58900280e+02]\n",
      " [-0.00000000e+00 -2.38298643e-03  1.00000000e+00]]\n",
      "nonzero:  (array([114, 114, 114, ..., 716, 716, 719], dtype=int64), array([517, 518, 519, ..., 412, 413, 795], dtype=int64))\n",
      "nonzerox:  [517 518 519 ... 412 413 795]\n",
      "nonzeroy:  [114 114 114 ... 716 716 719]\n",
      "(720, 1280)\n",
      "left_fit, right_fit:  [ 1.90683301e-04 -3.90042247e-01  5.93387770e+02] [ 3.09676986e-04 -4.71706714e-01  1.10252779e+03]\n",
      "left_lane_inds:  [ True  True  True ...  True  True False]\n",
      "right_lane_inds:  [False False False ... False False False]\n",
      "left_curverad, right_curverad:  861.5328388344449 530.3251291054365\n",
      "distance[m]:  2.70595990781461\n"
     ]
    },
    {
     "data": {
      "image/png": "[encoded data removed]",
      "text/plain": [
       "<Figure size 432x288 with 1 Axes>"
      ]
     },
     "metadata": {
      "needs_background": "light"
     },
     "output_type": "display_data"
    }
   ],
   "source": [
    "#####################################################\n",
    "## Images \n",
    "####################################################\n",
    "#img = cv2.imread('test_images/straight_lines1.jpg')\n",
    "img = cv2.imread('test_images/test3.jpg')\n",
    "undistorted_img = cal_undistort(img, objpoints, imgpoints)\n",
    "cv2.imshow('img_orig',undistorted_img)\n",
    "cv2.waitKey(1000)\n",
    "\n",
    "#rgb = img[...,::-1].copy()\n",
    "hls_binary = hls_select(undistorted_img, thresh=(70, 255))\n",
    "hls_binary = hls_binary*255\n",
    "cv2.imshow('img_binary', hls_binary)\n",
    "cv2.waitKey(1000)\n",
    "\n",
    "top_down, perspective_M = corners_unwarp(hls_binary, mtx, dist)\n",
    "cv2.imshow('img_unwarped',top_down)\n",
    "cv2.waitKey(1000)\n",
    "\n",
    "[out_img,  left_fit, right_fit, left_fitx, right_fitx, ploty] = fit_polynomial(top_down)\n",
    "cv2.imshow(\"window\", out_img)\n",
    "\n",
    "\n",
    "result = draw_lines( top_down, img, left_fitx, right_fitx, ploty, np.linalg.inv(perspective_M) )\n",
    "cv2.imshow(\"plot lines onto image\", result)\n",
    "\n",
    "\n",
    "print(\"left_fit, right_fit: \", left_fit, right_fit)\n",
    "[leftx, lefty, rightx, righty, result] = search_around_poly(top_down, left_fit, right_fit)\n",
    "# View your output\n",
    "plt.imshow(result)\n",
    "\n",
    "# Calculate the radius of curvature in meters for both lane lines\n",
    "left_curverad, right_curverad = measure_curvature_real(left_fitx, right_fitx, ploty)\n",
    "print(\"left_curverad, right_curverad: \", left_curverad, right_curverad)\n",
    "\n",
    "# print(\"left_fitx: \", left_fitx)\n",
    "# print(\"ploty: \", ploty)\n",
    "\n",
    "distance = (right_fitx[-1] - left_fitx[-1])*xm_per_pix\n",
    "print(\"distance[m]: \", distance)"
   ]
  },
  {
   "cell_type": "code",
   "execution_count": 6,
   "metadata": {},
   "outputs": [],
   "source": [
    "#####################################################\n",
    "## Video \n",
    "####################################################\n",
    "\n",
    "# Import everything needed to edit/save/watch video clips\n",
    "from moviepy.editor import VideoFileClip\n",
    "from IPython.display import HTML\n",
    "\n",
    "initialized = False\n",
    "left_fit, right_fit, left_fitx, right_fitx, ploty = None, None, None, None, None\n",
    "\n",
    "def process_image(image):\n",
    "    global initialized\n",
    "    global left_fit\n",
    "    global right_fit\n",
    "    global left_fitx\n",
    "    global right_fitx\n",
    "    global ploty\n",
    "    # NOTE: The output you return should be a color image (3 channel) for processing video below\n",
    "    # TODO: put your pipeline here,\n",
    "    # you should return the final output (image where lines are drawn on lanes)\n",
    "    img = image\n",
    "    undistorted_img = cal_undistort(img, objpoints, imgpoints)\n",
    "\n",
    "    #rgb = img[...,::-1].copy()\n",
    "    hls_binary = hls_select(undistorted_img, thresh=(70, 255))\n",
    "    hls_binary = hls_binary*255\n",
    "\n",
    "    top_down, perspective_M = corners_unwarp(hls_binary, mtx, dist)\n",
    "\n",
    "    if not initialized:\n",
    "        [out_img,  left_fit, right_fit, left_fitx, right_fitx, ploty] = fit_polynomial(top_down)\n",
    "        result = out_img\n",
    "        initialized = True\n",
    "    else:\n",
    "        [leftx, lefty, rightx, righty, result] = search_around_poly(top_down, left_fit, right_fit)\n",
    "\n",
    "    # Calculate the radius of curvature in meters for both lane lines\n",
    "    left_curverad, right_curverad = measure_curvature_real(left_fitx, right_fitx, ploty)\n",
    "    print(\"left_curverad, right_curverad: \", left_curverad, right_curverad)\n",
    "\n",
    "    # print(\"left_fitx: \", left_fitx)\n",
    "    # print(\"ploty: \", ploty)\n",
    "\n",
    "    distance = (right_fitx[-1] - left_fitx[-1])*xm_per_pix\n",
    "    print(\"distance[m]: \", distance)\n",
    "    \n",
    "    result = draw_lines( top_down, img, left_fitx, right_fitx, ploty, np.linalg.inv(perspective_M) )\n",
    "    return result"
   ]
  },
  {
   "cell_type": "code",
   "execution_count": 7,
   "metadata": {},
   "outputs": [
    {
     "name": "stdout",
     "output_type": "stream",
     "text": [
      "img.shape[0] 720\n",
      "img.shape[1] 1280\n",
      "M:  [[-4.02609506e-01 -1.52511132e+00  8.97670084e+02]\n",
      " [ 0.00000000e+00 -1.90866729e+00  8.58900280e+02]\n",
      " [-0.00000000e+00 -2.38298643e-03  1.00000000e+00]]\n",
      "nonzero:  (array([  0,   0,   0, ..., 714, 714, 714], dtype=int64), array([257, 258, 259, ..., 448, 449, 450], dtype=int64))\n",
      "nonzerox:  [257 258 259 ... 448 449 450]\n",
      "nonzeroy:  [  0   0   0 ... 714 714 714]\n",
      "(720, 1280)\n",
      "left_curverad, right_curverad:  496.2671583924023 1014.347429583127\n",
      "distance[m]:  2.7458809584091215\n",
      "Moviepy - Building video test_videos_output/project_video.mp4.\n",
      "Moviepy - Writing video test_videos_output/project_video.mp4\n",
      "\n"
     ]
    },
    {
     "name": "stderr",
     "output_type": "stream",
     "text": [
      "t:   0%|                                               | 0/25 [00:00<?, ?it/s, now=None]"
     ]
    },
    {
     "name": "stdout",
     "output_type": "stream",
     "text": [
      "img.shape[0] 720\n",
      "img.shape[1] 1280\n",
      "M:  [[-4.02609506e-01 -1.52511132e+00  8.97670084e+02]\n",
      " [ 0.00000000e+00 -1.90866729e+00  8.58900280e+02]\n",
      " [-0.00000000e+00 -2.38298643e-03  1.00000000e+00]]\n",
      "left_lane_inds:  [ True  True  True ...  True  True  True]\n",
      "right_lane_inds:  [False False False ... False False False]\n",
      "left_curverad, right_curverad:  496.2671583924023 1014.347429583127\n",
      "distance[m]:  2.7458809584091215\n"
     ]
    },
    {
     "name": "stderr",
     "output_type": "stream",
     "text": [
      "t:   8%|███                                    | 2/25 [00:01<00:11,  1.97it/s, now=None]"
     ]
    },
    {
     "name": "stdout",
     "output_type": "stream",
     "text": [
      "img.shape[0] 720\n",
      "img.shape[1] 1280\n",
      "M:  [[-4.02609506e-01 -1.52511132e+00  8.97670084e+02]\n",
      " [ 0.00000000e+00 -1.90866729e+00  8.58900280e+02]\n",
      " [-0.00000000e+00 -2.38298643e-03  1.00000000e+00]]\n",
      "left_lane_inds:  [ True  True  True ...  True  True  True]\n",
      "right_lane_inds:  [False False False ... False False False]\n",
      "left_curverad, right_curverad:  496.2671583924023 1014.347429583127\n",
      "distance[m]:  2.7458809584091215\n"
     ]
    },
    {
     "name": "stderr",
     "output_type": "stream",
     "text": [
      "t:  12%|████▋                                  | 3/25 [00:02<00:14,  1.51it/s, now=None]"
     ]
    },
    {
     "name": "stdout",
     "output_type": "stream",
     "text": [
      "img.shape[0] 720\n",
      "img.shape[1] 1280\n",
      "M:  [[-4.02609506e-01 -1.52511132e+00  8.97670084e+02]\n",
      " [ 0.00000000e+00 -1.90866729e+00  8.58900280e+02]\n",
      " [-0.00000000e+00 -2.38298643e-03  1.00000000e+00]]\n",
      "left_lane_inds:  [ True  True  True ...  True  True  True]\n",
      "right_lane_inds:  [False False False ... False False False]\n",
      "left_curverad, right_curverad:  496.2671583924023 1014.347429583127\n",
      "distance[m]:  2.7458809584091215\n"
     ]
    },
    {
     "name": "stderr",
     "output_type": "stream",
     "text": [
      "t:  16%|██████▏                                | 4/25 [00:03<00:16,  1.30it/s, now=None]"
     ]
    },
    {
     "name": "stdout",
     "output_type": "stream",
     "text": [
      "img.shape[0] 720\n",
      "img.shape[1] 1280\n",
      "M:  [[-4.02609506e-01 -1.52511132e+00  8.97670084e+02]\n",
      " [ 0.00000000e+00 -1.90866729e+00  8.58900280e+02]\n",
      " [-0.00000000e+00 -2.38298643e-03  1.00000000e+00]]\n",
      "left_lane_inds:  [ True  True  True ...  True  True  True]\n",
      "right_lane_inds:  [False False False ... False False False]\n",
      "left_curverad, right_curverad:  496.2671583924023 1014.347429583127\n",
      "distance[m]:  2.7458809584091215\n"
     ]
    },
    {
     "name": "stderr",
     "output_type": "stream",
     "text": [
      "t:  20%|███████▊                               | 5/25 [00:04<00:16,  1.19it/s, now=None]"
     ]
    },
    {
     "name": "stdout",
     "output_type": "stream",
     "text": [
      "img.shape[0] 720\n",
      "img.shape[1] 1280\n",
      "M:  [[-4.02609506e-01 -1.52511132e+00  8.97670084e+02]\n",
      " [ 0.00000000e+00 -1.90866729e+00  8.58900280e+02]\n",
      " [-0.00000000e+00 -2.38298643e-03  1.00000000e+00]]\n",
      "left_lane_inds:  [ True  True  True ...  True  True  True]\n",
      "right_lane_inds:  [False False False ... False False False]\n",
      "left_curverad, right_curverad:  496.2671583924023 1014.347429583127\n",
      "distance[m]:  2.7458809584091215\n"
     ]
    },
    {
     "name": "stderr",
     "output_type": "stream",
     "text": [
      "t:  24%|█████████▎                             | 6/25 [00:05<00:17,  1.11it/s, now=None]"
     ]
    },
    {
     "name": "stdout",
     "output_type": "stream",
     "text": [
      "img.shape[0] 720\n",
      "img.shape[1] 1280\n",
      "M:  [[-4.02609506e-01 -1.52511132e+00  8.97670084e+02]\n",
      " [ 0.00000000e+00 -1.90866729e+00  8.58900280e+02]\n",
      " [-0.00000000e+00 -2.38298643e-03  1.00000000e+00]]\n",
      "left_lane_inds:  [ True  True  True ...  True  True  True]\n",
      "right_lane_inds:  [False False False ... False False False]\n",
      "left_curverad, right_curverad:  496.2671583924023 1014.347429583127\n",
      "distance[m]:  2.7458809584091215\n"
     ]
    },
    {
     "name": "stderr",
     "output_type": "stream",
     "text": [
      "t:  28%|██████████▉                            | 7/25 [00:06<00:16,  1.06it/s, now=None]"
     ]
    },
    {
     "name": "stdout",
     "output_type": "stream",
     "text": [
      "img.shape[0] 720\n",
      "img.shape[1] 1280\n",
      "M:  [[-4.02609506e-01 -1.52511132e+00  8.97670084e+02]\n",
      " [ 0.00000000e+00 -1.90866729e+00  8.58900280e+02]\n",
      " [-0.00000000e+00 -2.38298643e-03  1.00000000e+00]]\n",
      "left_lane_inds:  [ True  True  True ...  True  True  True]\n",
      "right_lane_inds:  [False False False ... False False False]\n",
      "left_curverad, right_curverad:  496.2671583924023 1014.347429583127\n",
      "distance[m]:  2.7458809584091215\n"
     ]
    },
    {
     "name": "stderr",
     "output_type": "stream",
     "text": [
      "t:  32%|████████████▍                          | 8/25 [00:07<00:16,  1.03it/s, now=None]"
     ]
    },
    {
     "name": "stdout",
     "output_type": "stream",
     "text": [
      "img.shape[0] 720\n",
      "img.shape[1] 1280\n",
      "M:  [[-4.02609506e-01 -1.52511132e+00  8.97670084e+02]\n",
      " [ 0.00000000e+00 -1.90866729e+00  8.58900280e+02]\n",
      " [-0.00000000e+00 -2.38298643e-03  1.00000000e+00]]\n",
      "left_lane_inds:  [ True  True  True ...  True  True  True]\n",
      "right_lane_inds:  [False False False ... False False False]\n",
      "left_curverad, right_curverad:  496.2671583924023 1014.347429583127\n",
      "distance[m]:  2.7458809584091215\n"
     ]
    },
    {
     "name": "stderr",
     "output_type": "stream",
     "text": [
      "t:  36%|██████████████                         | 9/25 [00:08<00:16,  1.01s/it, now=None]"
     ]
    },
    {
     "name": "stdout",
     "output_type": "stream",
     "text": [
      "img.shape[0] 720\n",
      "img.shape[1] 1280\n",
      "M:  [[-4.02609506e-01 -1.52511132e+00  8.97670084e+02]\n",
      " [ 0.00000000e+00 -1.90866729e+00  8.58900280e+02]\n",
      " [-0.00000000e+00 -2.38298643e-03  1.00000000e+00]]\n",
      "left_lane_inds:  [ True  True  True ...  True  True  True]\n",
      "right_lane_inds:  [False False False ... False False False]\n",
      "left_curverad, right_curverad:  496.2671583924023 1014.347429583127\n",
      "distance[m]:  2.7458809584091215\n"
     ]
    },
    {
     "name": "stderr",
     "output_type": "stream",
     "text": [
      "t:  40%|███████████████▏                      | 10/25 [00:09<00:15,  1.06s/it, now=None]"
     ]
    },
    {
     "name": "stdout",
     "output_type": "stream",
     "text": [
      "img.shape[0] 720\n",
      "img.shape[1] 1280\n",
      "M:  [[-4.02609506e-01 -1.52511132e+00  8.97670084e+02]\n",
      " [ 0.00000000e+00 -1.90866729e+00  8.58900280e+02]\n",
      " [-0.00000000e+00 -2.38298643e-03  1.00000000e+00]]\n",
      "left_lane_inds:  [ True  True  True ...  True  True  True]\n",
      "right_lane_inds:  [False False False ... False False False]\n",
      "left_curverad, right_curverad:  496.2671583924023 1014.347429583127\n",
      "distance[m]:  2.7458809584091215\n"
     ]
    },
    {
     "name": "stderr",
     "output_type": "stream",
     "text": [
      "t:  44%|████████████████▋                     | 11/25 [00:10<00:15,  1.11s/it, now=None]"
     ]
    },
    {
     "name": "stdout",
     "output_type": "stream",
     "text": [
      "img.shape[0] 720\n",
      "img.shape[1] 1280\n",
      "M:  [[-4.02609506e-01 -1.52511132e+00  8.97670084e+02]\n",
      " [ 0.00000000e+00 -1.90866729e+00  8.58900280e+02]\n",
      " [-0.00000000e+00 -2.38298643e-03  1.00000000e+00]]\n",
      "left_lane_inds:  [ True  True  True ...  True  True  True]\n",
      "right_lane_inds:  [False False False ... False False False]\n",
      "left_curverad, right_curverad:  496.2671583924023 1014.347429583127\n",
      "distance[m]:  2.7458809584091215\n"
     ]
    },
    {
     "name": "stderr",
     "output_type": "stream",
     "text": [
      "t:  48%|██████████████████▏                   | 12/25 [00:11<00:14,  1.08s/it, now=None]"
     ]
    },
    {
     "name": "stdout",
     "output_type": "stream",
     "text": [
      "img.shape[0] 720\n",
      "img.shape[1] 1280\n",
      "M:  [[-4.02609506e-01 -1.52511132e+00  8.97670084e+02]\n",
      " [ 0.00000000e+00 -1.90866729e+00  8.58900280e+02]\n",
      " [-0.00000000e+00 -2.38298643e-03  1.00000000e+00]]\n",
      "left_lane_inds:  [ True  True  True ...  True  True  True]\n",
      "right_lane_inds:  [False False False ... False False False]\n",
      "left_curverad, right_curverad:  496.2671583924023 1014.347429583127\n",
      "distance[m]:  2.7458809584091215\n"
     ]
    },
    {
     "name": "stderr",
     "output_type": "stream",
     "text": [
      "t:  52%|███████████████████▊                  | 13/25 [00:12<00:12,  1.06s/it, now=None]"
     ]
    },
    {
     "name": "stdout",
     "output_type": "stream",
     "text": [
      "img.shape[0] 720\n",
      "img.shape[1] 1280\n",
      "M:  [[-4.02609506e-01 -1.52511132e+00  8.97670084e+02]\n",
      " [ 0.00000000e+00 -1.90866729e+00  8.58900280e+02]\n",
      " [-0.00000000e+00 -2.38298643e-03  1.00000000e+00]]\n",
      "left_lane_inds:  [ True  True  True ...  True  True  True]\n",
      "right_lane_inds:  [False False False ... False False False]\n",
      "left_curverad, right_curverad:  496.2671583924023 1014.347429583127\n",
      "distance[m]:  2.7458809584091215\n"
     ]
    },
    {
     "name": "stderr",
     "output_type": "stream",
     "text": [
      "t:  56%|█████████████████████▎                | 14/25 [00:13<00:11,  1.05s/it, now=None]"
     ]
    },
    {
     "name": "stdout",
     "output_type": "stream",
     "text": [
      "img.shape[0] 720\n",
      "img.shape[1] 1280\n",
      "M:  [[-4.02609506e-01 -1.52511132e+00  8.97670084e+02]\n",
      " [ 0.00000000e+00 -1.90866729e+00  8.58900280e+02]\n",
      " [-0.00000000e+00 -2.38298643e-03  1.00000000e+00]]\n",
      "left_lane_inds:  [ True  True  True ...  True  True  True]\n",
      "right_lane_inds:  [False False False ... False False False]\n",
      "left_curverad, right_curverad:  496.2671583924023 1014.347429583127\n",
      "distance[m]:  2.7458809584091215\n"
     ]
    },
    {
     "name": "stderr",
     "output_type": "stream",
     "text": [
      "t:  60%|██████████████████████▊               | 15/25 [00:15<00:11,  1.16s/it, now=None]"
     ]
    },
    {
     "name": "stdout",
     "output_type": "stream",
     "text": [
      "img.shape[0] 720\n",
      "img.shape[1] 1280\n",
      "M:  [[-4.02609506e-01 -1.52511132e+00  8.97670084e+02]\n",
      " [ 0.00000000e+00 -1.90866729e+00  8.58900280e+02]\n",
      " [-0.00000000e+00 -2.38298643e-03  1.00000000e+00]]\n",
      "left_lane_inds:  [ True  True  True ...  True  True  True]\n",
      "right_lane_inds:  [False False False ... False False False]\n",
      "left_curverad, right_curverad:  496.2671583924023 1014.347429583127\n",
      "distance[m]:  2.7458809584091215\n"
     ]
    },
    {
     "name": "stderr",
     "output_type": "stream",
     "text": [
      "t:  64%|████████████████████████▎             | 16/25 [00:16<00:09,  1.10s/it, now=None]"
     ]
    },
    {
     "name": "stdout",
     "output_type": "stream",
     "text": [
      "img.shape[0] 720\n",
      "img.shape[1] 1280\n",
      "M:  [[-4.02609506e-01 -1.52511132e+00  8.97670084e+02]\n",
      " [ 0.00000000e+00 -1.90866729e+00  8.58900280e+02]\n",
      " [-0.00000000e+00 -2.38298643e-03  1.00000000e+00]]\n",
      "left_lane_inds:  [ True  True  True ...  True  True  True]\n",
      "right_lane_inds:  [False False False ... False False False]\n",
      "left_curverad, right_curverad:  496.2671583924023 1014.347429583127\n",
      "distance[m]:  2.7458809584091215\n"
     ]
    },
    {
     "name": "stderr",
     "output_type": "stream",
     "text": [
      "t:  68%|█████████████████████████▊            | 17/25 [00:17<00:08,  1.06s/it, now=None]"
     ]
    },
    {
     "name": "stdout",
     "output_type": "stream",
     "text": [
      "img.shape[0] 720\n",
      "img.shape[1] 1280\n",
      "M:  [[-4.02609506e-01 -1.52511132e+00  8.97670084e+02]\n",
      " [ 0.00000000e+00 -1.90866729e+00  8.58900280e+02]\n",
      " [-0.00000000e+00 -2.38298643e-03  1.00000000e+00]]\n",
      "left_lane_inds:  [ True  True  True ...  True  True  True]\n",
      "right_lane_inds:  [False False False ... False False False]\n",
      "left_curverad, right_curverad:  496.2671583924023 1014.347429583127\n",
      "distance[m]:  2.7458809584091215\n"
     ]
    },
    {
     "name": "stderr",
     "output_type": "stream",
     "text": [
      "t:  72%|███████████████████████████▎          | 18/25 [00:18<00:07,  1.04s/it, now=None]"
     ]
    },
    {
     "name": "stdout",
     "output_type": "stream",
     "text": [
      "img.shape[0] 720\n",
      "img.shape[1] 1280\n",
      "M:  [[-4.02609506e-01 -1.52511132e+00  8.97670084e+02]\n",
      " [ 0.00000000e+00 -1.90866729e+00  8.58900280e+02]\n",
      " [-0.00000000e+00 -2.38298643e-03  1.00000000e+00]]\n",
      "left_lane_inds:  [ True  True  True ...  True  True  True]\n",
      "right_lane_inds:  [False False False ... False False False]\n",
      "left_curverad, right_curverad:  496.2671583924023 1014.347429583127\n",
      "distance[m]:  2.7458809584091215\n"
     ]
    },
    {
     "name": "stderr",
     "output_type": "stream",
     "text": [
      "t:  76%|████████████████████████████▉         | 19/25 [00:19<00:06,  1.02s/it, now=None]"
     ]
    },
    {
     "name": "stdout",
     "output_type": "stream",
     "text": [
      "img.shape[0] 720\n",
      "img.shape[1] 1280\n",
      "M:  [[-4.02609506e-01 -1.52511132e+00  8.97670084e+02]\n",
      " [ 0.00000000e+00 -1.90866729e+00  8.58900280e+02]\n",
      " [-0.00000000e+00 -2.38298643e-03  1.00000000e+00]]\n",
      "left_lane_inds:  [ True  True  True ...  True  True  True]\n",
      "right_lane_inds:  [False False False ... False False False]\n",
      "left_curverad, right_curverad:  496.2671583924023 1014.347429583127\n",
      "distance[m]:  2.7458809584091215\n"
     ]
    },
    {
     "name": "stderr",
     "output_type": "stream",
     "text": [
      "t:  80%|██████████████████████████████▍       | 20/25 [00:20<00:05,  1.01s/it, now=None]"
     ]
    },
    {
     "name": "stdout",
     "output_type": "stream",
     "text": [
      "img.shape[0] 720\n",
      "img.shape[1] 1280\n",
      "M:  [[-4.02609506e-01 -1.52511132e+00  8.97670084e+02]\n",
      " [ 0.00000000e+00 -1.90866729e+00  8.58900280e+02]\n",
      " [-0.00000000e+00 -2.38298643e-03  1.00000000e+00]]\n",
      "left_lane_inds:  [ True  True  True ...  True  True  True]\n",
      "right_lane_inds:  [False False False ... False False False]\n",
      "left_curverad, right_curverad:  496.2671583924023 1014.347429583127\n",
      "distance[m]:  2.7458809584091215\n"
     ]
    },
    {
     "name": "stderr",
     "output_type": "stream",
     "text": [
      "t:  84%|███████████████████████████████▉      | 21/25 [00:21<00:04,  1.07s/it, now=None]"
     ]
    },
    {
     "name": "stdout",
     "output_type": "stream",
     "text": [
      "img.shape[0] 720\n",
      "img.shape[1] 1280\n",
      "M:  [[-4.02609506e-01 -1.52511132e+00  8.97670084e+02]\n",
      " [ 0.00000000e+00 -1.90866729e+00  8.58900280e+02]\n",
      " [-0.00000000e+00 -2.38298643e-03  1.00000000e+00]]\n",
      "left_lane_inds:  [ True  True  True ...  True  True  True]\n",
      "right_lane_inds:  [False False False ... False False False]\n",
      "left_curverad, right_curverad:  496.2671583924023 1014.347429583127\n",
      "distance[m]:  2.7458809584091215\n"
     ]
    },
    {
     "name": "stderr",
     "output_type": "stream",
     "text": [
      "t:  88%|█████████████████████████████████▍    | 22/25 [00:22<00:03,  1.05s/it, now=None]"
     ]
    },
    {
     "name": "stdout",
     "output_type": "stream",
     "text": [
      "img.shape[0] 720\n",
      "img.shape[1] 1280\n",
      "M:  [[-4.02609506e-01 -1.52511132e+00  8.97670084e+02]\n",
      " [ 0.00000000e+00 -1.90866729e+00  8.58900280e+02]\n",
      " [-0.00000000e+00 -2.38298643e-03  1.00000000e+00]]\n",
      "left_lane_inds:  [ True  True  True ...  True  True  True]\n",
      "right_lane_inds:  [False False False ... False False False]\n",
      "left_curverad, right_curverad:  496.2671583924023 1014.347429583127\n",
      "distance[m]:  2.7458809584091215\n"
     ]
    },
    {
     "name": "stderr",
     "output_type": "stream",
     "text": [
      "t:  92%|██████████████████████████████████▉   | 23/25 [00:23<00:02,  1.02s/it, now=None]"
     ]
    },
    {
     "name": "stdout",
     "output_type": "stream",
     "text": [
      "img.shape[0] 720\n",
      "img.shape[1] 1280\n",
      "M:  [[-4.02609506e-01 -1.52511132e+00  8.97670084e+02]\n",
      " [ 0.00000000e+00 -1.90866729e+00  8.58900280e+02]\n",
      " [-0.00000000e+00 -2.38298643e-03  1.00000000e+00]]\n",
      "left_lane_inds:  [ True  True  True ...  True  True  True]\n",
      "right_lane_inds:  [False False False ... False False False]\n",
      "left_curverad, right_curverad:  496.2671583924023 1014.347429583127\n",
      "distance[m]:  2.7458809584091215\n"
     ]
    },
    {
     "name": "stderr",
     "output_type": "stream",
     "text": [
      "t:  96%|████████████████████████████████████▍ | 24/25 [00:24<00:01,  1.03s/it, now=None]"
     ]
    },
    {
     "name": "stdout",
     "output_type": "stream",
     "text": [
      "img.shape[0] 720\n",
      "img.shape[1] 1280\n",
      "M:  [[-4.02609506e-01 -1.52511132e+00  8.97670084e+02]\n",
      " [ 0.00000000e+00 -1.90866729e+00  8.58900280e+02]\n",
      " [-0.00000000e+00 -2.38298643e-03  1.00000000e+00]]\n",
      "left_lane_inds:  [ True  True  True ...  True  True  True]\n",
      "right_lane_inds:  [False False False ... False False False]\n",
      "left_curverad, right_curverad:  496.2671583924023 1014.347429583127\n",
      "distance[m]:  2.7458809584091215\n"
     ]
    },
    {
     "name": "stderr",
     "output_type": "stream",
     "text": [
      "t: 100%|██████████████████████████████████████| 25/25 [00:25<00:00,  1.00s/it, now=None]"
     ]
    },
    {
     "name": "stdout",
     "output_type": "stream",
     "text": [
      "img.shape[0] 720\n",
      "img.shape[1] 1280\n",
      "M:  [[-4.02609506e-01 -1.52511132e+00  8.97670084e+02]\n",
      " [ 0.00000000e+00 -1.90866729e+00  8.58900280e+02]\n",
      " [-0.00000000e+00 -2.38298643e-03  1.00000000e+00]]\n",
      "left_lane_inds:  [ True  True  True ...  True  True  True]\n",
      "right_lane_inds:  [False False False ... False False False]\n",
      "left_curverad, right_curverad:  496.2671583924023 1014.347429583127\n",
      "distance[m]:  2.7458809584091215\n"
     ]
    },
    {
     "name": "stderr",
     "output_type": "stream",
     "text": [
      "                                                                                        \r"
     ]
    },
    {
     "name": "stdout",
     "output_type": "stream",
     "text": [
      "Moviepy - Done !\n",
      "Moviepy - video ready test_videos_output/project_video.mp4\n",
      "Wall time: 27.3 s\n"
     ]
    },
    {
     "data": {
      "image/png": "[encoded data removed]",
      "text/plain": [
       "<Figure size 432x288 with 1 Axes>"
      ]
     },
     "metadata": {
      "needs_background": "light"
     },
     "output_type": "display_data"
    }
   ],
   "source": [
    "white_output = 'test_videos_output/project_video.mp4'\n",
    "## To speed up the testing process you may want to try your pipeline on a shorter subclip of the video\n",
    "## To do so add .subclip(start_second,end_second) to the end of the line below\n",
    "## Where start_second and end_second are integer values representing the start and end of the subclip\n",
    "## You may also uncomment the following line for a subclip of the first 5 seconds\n",
    "#clip1 = VideoFileClip(\"test_videos/solidWhiteRight.mp4\").subclip(4,5)\n",
    "clip1 = VideoFileClip(\"project_video.mp4\").subclip(0,1)\n",
    "white_clip = clip1.fl_image(process_image) #NOTE: this function expects color images!!\n",
    "%time white_clip.write_videofile(white_output, audio=False)"
   ]
  },
  {
   "cell_type": "code",
   "execution_count": 8,
   "metadata": {},
   "outputs": [
    {
     "data": {
      "text/html": [
       "\n",
       "<video width=\"960\" height=\"540\" controls>\n",
       "  <source src=\"test_videos_output/project_video.mp4\">\n",
       "</video>\n"
      ],
      "text/plain": [
       "<IPython.core.display.HTML object>"
      ]
     },
     "execution_count": 8,
     "metadata": {},
     "output_type": "execute_result"
    }
   ],
   "source": [
    "HTML(\"\"\"\n",
    "<video width=\"960\" height=\"540\" controls>\n",
    "  <source src=\"{0}\">\n",
    "</video>\n",
    "\"\"\".format(white_output))"
   ]
  }
 ],
 "metadata": {
  "kernelspec": {
   "display_name": "Python 3",
   "language": "python",
   "name": "python3"
  },
  "language_info": {
   "codemirror_mode": {
    "name": "ipython",
    "version": 3
   },
   "file_extension": ".py",
   "mimetype": "text/x-python",
   "name": "python",
   "nbconvert_exporter": "python",
   "pygments_lexer": "ipython3",
   "version": "3.6.5"
  }
 },
 "nbformat": 4,
 "nbformat_minor": 4
}
