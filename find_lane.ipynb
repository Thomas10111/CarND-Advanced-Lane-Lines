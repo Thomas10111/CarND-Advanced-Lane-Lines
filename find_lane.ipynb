{
 "cells": [
  {
   "cell_type": "code",
   "execution_count": 1,
   "metadata": {},
   "outputs": [],
   "source": [
    "import numpy as np\n",
    "import cv2\n",
    "import glob\n",
    "import matplotlib.pyplot as plt\n",
    "%matplotlib qt\n",
    "\n",
    "nx = 9\n",
    "ny = 6"
   ]
  },
  {
   "cell_type": "code",
   "execution_count": 2,
   "metadata": {},
   "outputs": [],
   "source": [
    "def cal_undistort(img, objpoints, imgpoints):\n",
    "    # Use cv2.calibrateCamera() and cv2.undistort()\n",
    "    gray = cv2.cvtColor(img,cv2.COLOR_BGR2GRAY)\n",
    "    ret, mtx, dist, rvecs, tvecs = cv2.calibrateCamera(objpoints, imgpoints, gray.shape[::-1], None, None)\n",
    "    undist = cv2.undistort(img, mtx, dist, None, mtx)\n",
    "    return undist"
   ]
  },
  {
   "cell_type": "code",
   "execution_count": 3,
   "metadata": {},
   "outputs": [
    {
     "name": "stdout",
     "output_type": "stream",
     "text": [
      "['camera_cal\\\\calibration1.jpg', 'camera_cal\\\\calibration10.jpg', 'camera_cal\\\\calibration11.jpg', 'camera_cal\\\\calibration12.jpg', 'camera_cal\\\\calibration13.jpg', 'camera_cal\\\\calibration14.jpg', 'camera_cal\\\\calibration15.jpg', 'camera_cal\\\\calibration16.jpg', 'camera_cal\\\\calibration17.jpg', 'camera_cal\\\\calibration18.jpg', 'camera_cal\\\\calibration19.jpg', 'camera_cal\\\\calibration2.jpg', 'camera_cal\\\\calibration20.jpg', 'camera_cal\\\\calibration3.jpg', 'camera_cal\\\\calibration4.jpg', 'camera_cal\\\\calibration5.jpg', 'camera_cal\\\\calibration6.jpg', 'camera_cal\\\\calibration7.jpg', 'camera_cal\\\\calibration8.jpg', 'camera_cal\\\\calibration9.jpg']\n",
      "undistorted\n"
     ]
    }
   ],
   "source": [
    "# prepare object points, like (0,0,0), (1,0,0), (2,0,0) ....,(6,5,0)\n",
    "objp = np.zeros((6*9,3), np.float32)\n",
    "objp[:,:2] = np.mgrid[0:9,0:6].T.reshape(-1,2)\n",
    "\n",
    "# Arrays to store object points and image points from all the images.\n",
    "objpoints = [] # 3d points in real world space\n",
    "imgpoints = [] # 2d points in image plane.\n",
    "\n",
    "# Make a list of calibration images\n",
    "images = glob.glob('camera_cal/calibration*.jpg')\n",
    "\n",
    "print(images)\n",
    "\n",
    "# Step through the list and search for chessboard corners \n",
    "for fname in images:\n",
    "    img = cv2.imread(fname)\n",
    "    gray = cv2.cvtColor(img,cv2.COLOR_BGR2GRAY)\n",
    "\n",
    "    # Find the chessboard\n",
    "    ret, corners = cv2.findChessboardCorners(gray, (nx,ny),None)\n",
    "\n",
    "    # If found, add object points, image points\n",
    "    if ret == True:\n",
    "        objpoints.append(objp)\n",
    "        imgpoints.append(corners)\n",
    "\n",
    "        # Draw and display the corners\n",
    "        #img = cv2.drawChessboardCorners(img, (nx,ny), corners, ret)\n",
    "        #cv2.imshow('img',img)\n",
    "        #cv2.waitKey(1)\n",
    "\n",
    "\n",
    "ret, mtx, dist, rvecs, tvecs = cv2.calibrateCamera(objpoints, imgpoints, gray.shape[::-1], None, None)\n",
    "\n",
    "# print(\"mtx: \" ,mtx)\n",
    "# print(\"dist: \" ,dist)\n",
    "\n",
    "# Read in an image\n",
    "img = cv2.imread('camera_cal/calibration1.jpg')\n",
    "undistorted = cal_undistort(img, objpoints, imgpoints)\n",
    "\n",
    "cv2.imshow('img',undistorted)\n",
    "cv2.waitKey(1000)\n",
    "print(\"undistorted\")\n",
    "#cv2.destroyAllWindows()\n"
   ]
  },
  {
   "cell_type": "code",
   "execution_count": 4,
   "metadata": {},
   "outputs": [],
   "source": [
    "def corners_unwarp(undistorted_img, nx, ny, mtx, dist):\n",
    "    # 3) Find the chessboard corners\n",
    "    ret= True\n",
    "    print(\"img.shape[0]\", undistorted_img.shape[0])\n",
    "    print(\"img.shape[1]\", undistorted_img.shape[1])\n",
    "    src  =  np.float32([[0, undistorted_img.shape[0]//2], [undistorted_img.shape[1], undistorted_img.shape[0]//2], [undistorted_img.shape[1], undistorted_img.shape[0]], [0, undistorted_img.shape[0]] ])\n",
    "    # 4) If corners found: \n",
    "    if ret:\n",
    "        # c) define 4 destination points dst = np.float32([[,],[,],[,],[,]])\n",
    "\n",
    "        #dst = np.float32([[0,0],[undistorted_img.shape[1]-100,100],[undistorted_img.shape[1]-100,undistorted_img.shape[0]-100],[100,undistorted_img.shape[0]-100]])\n",
    "        dst = np.float32([[0,0],[undistorted_img.shape[1], 0], [undistorted_img.shape[1], undistorted_img.shape[0]],[0, undistorted_img.shape[0]]])\n",
    "        # d) use cv2.getPerspectiveTransform() to get M, the transform matrix\n",
    "        M = cv2.getPerspectiveTransform(src, dst)\n",
    "        # e) use cv2.warpPerspective() to warp your image to a top-down view\n",
    "        warped = cv2.warpPerspective(undistorted, M, (img.shape[1], img.shape[0]), flags=cv2.INTER_LINEAR)\n",
    "    #delete the next two lines\n",
    "    return warped, M"
   ]
  },
  {
   "cell_type": "code",
   "execution_count": 5,
   "metadata": {},
   "outputs": [
    {
     "name": "stdout",
     "output_type": "stream",
     "text": [
      "img.shape[0] 720\n",
      "img.shape[1] 1280\n",
      "warped\n"
     ]
    },
    {
     "data": {
      "text/plain": [
       "-1"
      ]
     },
     "execution_count": 5,
     "metadata": {},
     "output_type": "execute_result"
    }
   ],
   "source": [
    "img = cv2.imread('test_images/straight_lines1.jpg')\n",
    "undistorted = cal_undistort(img, objpoints, imgpoints)\n",
    "\n",
    "undistorted_gray = cv2.cvtColor(undistorted,cv2.COLOR_BGR2GRAY)\n",
    "top_down, perspective_M = corners_unwarp(undistorted_gray, nx, ny, mtx, dist)\n",
    "print(\"warped\")\n",
    "cv2.imshow('img',top_down)\n",
    "cv2.waitKey(1000)"
   ]
  },
  {
   "cell_type": "code",
   "execution_count": null,
   "metadata": {},
   "outputs": [],
   "source": []
  },
  {
   "cell_type": "code",
   "execution_count": null,
   "metadata": {},
   "outputs": [],
   "source": []
  }
 ],
 "metadata": {
  "kernelspec": {
   "display_name": "Python 3",
   "language": "python",
   "name": "python3"
  },
  "language_info": {
   "codemirror_mode": {
    "name": "ipython",
    "version": 3
   },
   "file_extension": ".py",
   "mimetype": "text/x-python",
   "name": "python",
   "nbconvert_exporter": "python",
   "pygments_lexer": "ipython3",
   "version": "3.7.6"
  }
 },
 "nbformat": 4,
 "nbformat_minor": 4
}
